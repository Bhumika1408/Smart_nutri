{
 "cells": [
  {
   "cell_type": "code",
   "execution_count": 4,
   "id": "20854647-1af3-41ae-9a9d-bfa6e9277dd1",
   "metadata": {},
   "outputs": [],
   "source": [
    "import pandas as pd\n",
    "import numpy as np\n",
    "from sklearn.preprocessing import StandardScaler\n",
    "from sklearn.model_selection import train_test_split\n",
    "from sklearn.metrics import accuracy_score,classification_report\n",
    "from sklearn.ensemble import RandomForestClassifier"
   ]
  },
  {
   "cell_type": "code",
   "execution_count": 5,
   "id": "59aa2be1-7ffa-4f5d-9c89-bda5a14f502d",
   "metadata": {},
   "outputs": [],
   "source": [
    "diabetes_data=pd.read_csv('diabetes (2).csv')\n",
    "recipes=pd.read_csv('IndianFoodDataset (5).csv')\n",
    "nhanes_data = pd.read_csv('NHANES Diabetes Questionnaire.csv')\n",
    "demographics_data = pd.read_csv('NHANES Demographics.csv')"
   ]
  },
  {
   "cell_type": "code",
   "execution_count": 6,
   "id": "83562e89-a0e2-443f-a4f2-6f82c527aa1c",
   "metadata": {},
   "outputs": [],
   "source": [
    "diabetes_data.fillna(diabetes_data.median(),inplace=True)\n",
    "target='Outcome'\n",
    "features=['Glucose','BMI','Age']"
   ]
  },
  {
   "cell_type": "code",
   "execution_count": 7,
   "id": "06ab1772-73f8-4ef4-9574-27f00d0a0c9b",
   "metadata": {},
   "outputs": [],
   "source": [
    "recipes['Diet']=recipes['Diet'].str.strip()\n",
    "diabetes_data['Diet']='Diabetic Friendly'\n",
    "combined_data=pd.merge(diabetes_data,recipes,how='inner',on='Diet')"
   ]
  },
  {
   "cell_type": "code",
   "execution_count": 16,
   "id": "9bf8baba-8298-456f-b355-85177bd72aac",
   "metadata": {},
   "outputs": [],
   "source": [
    "X=combined_data[features]\n",
    "y=combined_data[target]"
   ]
  },
  {
   "cell_type": "code",
   "execution_count": 18,
   "id": "b45a2dee-e730-4b72-9c51-c8eef7850438",
   "metadata": {},
   "outputs": [],
   "source": [
    "X_train,X_test,y_train,y_test=train_test_split(X,y,test_size=0.2,random_state=42)"
   ]
  },
  {
   "cell_type": "code",
   "execution_count": 20,
   "id": "c2f33979-2c7c-4326-8054-311388588561",
   "metadata": {},
   "outputs": [
    {
     "data": {
      "text/html": [
       "<style>#sk-container-id-1 {\n",
       "  /* Definition of color scheme common for light and dark mode */\n",
       "  --sklearn-color-text: #000;\n",
       "  --sklearn-color-text-muted: #666;\n",
       "  --sklearn-color-line: gray;\n",
       "  /* Definition of color scheme for unfitted estimators */\n",
       "  --sklearn-color-unfitted-level-0: #fff5e6;\n",
       "  --sklearn-color-unfitted-level-1: #f6e4d2;\n",
       "  --sklearn-color-unfitted-level-2: #ffe0b3;\n",
       "  --sklearn-color-unfitted-level-3: chocolate;\n",
       "  /* Definition of color scheme for fitted estimators */\n",
       "  --sklearn-color-fitted-level-0: #f0f8ff;\n",
       "  --sklearn-color-fitted-level-1: #d4ebff;\n",
       "  --sklearn-color-fitted-level-2: #b3dbfd;\n",
       "  --sklearn-color-fitted-level-3: cornflowerblue;\n",
       "\n",
       "  /* Specific color for light theme */\n",
       "  --sklearn-color-text-on-default-background: var(--sg-text-color, var(--theme-code-foreground, var(--jp-content-font-color1, black)));\n",
       "  --sklearn-color-background: var(--sg-background-color, var(--theme-background, var(--jp-layout-color0, white)));\n",
       "  --sklearn-color-border-box: var(--sg-text-color, var(--theme-code-foreground, var(--jp-content-font-color1, black)));\n",
       "  --sklearn-color-icon: #696969;\n",
       "\n",
       "  @media (prefers-color-scheme: dark) {\n",
       "    /* Redefinition of color scheme for dark theme */\n",
       "    --sklearn-color-text-on-default-background: var(--sg-text-color, var(--theme-code-foreground, var(--jp-content-font-color1, white)));\n",
       "    --sklearn-color-background: var(--sg-background-color, var(--theme-background, var(--jp-layout-color0, #111)));\n",
       "    --sklearn-color-border-box: var(--sg-text-color, var(--theme-code-foreground, var(--jp-content-font-color1, white)));\n",
       "    --sklearn-color-icon: #878787;\n",
       "  }\n",
       "}\n",
       "\n",
       "#sk-container-id-1 {\n",
       "  color: var(--sklearn-color-text);\n",
       "}\n",
       "\n",
       "#sk-container-id-1 pre {\n",
       "  padding: 0;\n",
       "}\n",
       "\n",
       "#sk-container-id-1 input.sk-hidden--visually {\n",
       "  border: 0;\n",
       "  clip: rect(1px 1px 1px 1px);\n",
       "  clip: rect(1px, 1px, 1px, 1px);\n",
       "  height: 1px;\n",
       "  margin: -1px;\n",
       "  overflow: hidden;\n",
       "  padding: 0;\n",
       "  position: absolute;\n",
       "  width: 1px;\n",
       "}\n",
       "\n",
       "#sk-container-id-1 div.sk-dashed-wrapped {\n",
       "  border: 1px dashed var(--sklearn-color-line);\n",
       "  margin: 0 0.4em 0.5em 0.4em;\n",
       "  box-sizing: border-box;\n",
       "  padding-bottom: 0.4em;\n",
       "  background-color: var(--sklearn-color-background);\n",
       "}\n",
       "\n",
       "#sk-container-id-1 div.sk-container {\n",
       "  /* jupyter's `normalize.less` sets `[hidden] { display: none; }`\n",
       "     but bootstrap.min.css set `[hidden] { display: none !important; }`\n",
       "     so we also need the `!important` here to be able to override the\n",
       "     default hidden behavior on the sphinx rendered scikit-learn.org.\n",
       "     See: https://github.com/scikit-learn/scikit-learn/issues/21755 */\n",
       "  display: inline-block !important;\n",
       "  position: relative;\n",
       "}\n",
       "\n",
       "#sk-container-id-1 div.sk-text-repr-fallback {\n",
       "  display: none;\n",
       "}\n",
       "\n",
       "div.sk-parallel-item,\n",
       "div.sk-serial,\n",
       "div.sk-item {\n",
       "  /* draw centered vertical line to link estimators */\n",
       "  background-image: linear-gradient(var(--sklearn-color-text-on-default-background), var(--sklearn-color-text-on-default-background));\n",
       "  background-size: 2px 100%;\n",
       "  background-repeat: no-repeat;\n",
       "  background-position: center center;\n",
       "}\n",
       "\n",
       "/* Parallel-specific style estimator block */\n",
       "\n",
       "#sk-container-id-1 div.sk-parallel-item::after {\n",
       "  content: \"\";\n",
       "  width: 100%;\n",
       "  border-bottom: 2px solid var(--sklearn-color-text-on-default-background);\n",
       "  flex-grow: 1;\n",
       "}\n",
       "\n",
       "#sk-container-id-1 div.sk-parallel {\n",
       "  display: flex;\n",
       "  align-items: stretch;\n",
       "  justify-content: center;\n",
       "  background-color: var(--sklearn-color-background);\n",
       "  position: relative;\n",
       "}\n",
       "\n",
       "#sk-container-id-1 div.sk-parallel-item {\n",
       "  display: flex;\n",
       "  flex-direction: column;\n",
       "}\n",
       "\n",
       "#sk-container-id-1 div.sk-parallel-item:first-child::after {\n",
       "  align-self: flex-end;\n",
       "  width: 50%;\n",
       "}\n",
       "\n",
       "#sk-container-id-1 div.sk-parallel-item:last-child::after {\n",
       "  align-self: flex-start;\n",
       "  width: 50%;\n",
       "}\n",
       "\n",
       "#sk-container-id-1 div.sk-parallel-item:only-child::after {\n",
       "  width: 0;\n",
       "}\n",
       "\n",
       "/* Serial-specific style estimator block */\n",
       "\n",
       "#sk-container-id-1 div.sk-serial {\n",
       "  display: flex;\n",
       "  flex-direction: column;\n",
       "  align-items: center;\n",
       "  background-color: var(--sklearn-color-background);\n",
       "  padding-right: 1em;\n",
       "  padding-left: 1em;\n",
       "}\n",
       "\n",
       "\n",
       "/* Toggleable style: style used for estimator/Pipeline/ColumnTransformer box that is\n",
       "clickable and can be expanded/collapsed.\n",
       "- Pipeline and ColumnTransformer use this feature and define the default style\n",
       "- Estimators will overwrite some part of the style using the `sk-estimator` class\n",
       "*/\n",
       "\n",
       "/* Pipeline and ColumnTransformer style (default) */\n",
       "\n",
       "#sk-container-id-1 div.sk-toggleable {\n",
       "  /* Default theme specific background. It is overwritten whether we have a\n",
       "  specific estimator or a Pipeline/ColumnTransformer */\n",
       "  background-color: var(--sklearn-color-background);\n",
       "}\n",
       "\n",
       "/* Toggleable label */\n",
       "#sk-container-id-1 label.sk-toggleable__label {\n",
       "  cursor: pointer;\n",
       "  display: flex;\n",
       "  width: 100%;\n",
       "  margin-bottom: 0;\n",
       "  padding: 0.5em;\n",
       "  box-sizing: border-box;\n",
       "  text-align: center;\n",
       "  align-items: start;\n",
       "  justify-content: space-between;\n",
       "  gap: 0.5em;\n",
       "}\n",
       "\n",
       "#sk-container-id-1 label.sk-toggleable__label .caption {\n",
       "  font-size: 0.6rem;\n",
       "  font-weight: lighter;\n",
       "  color: var(--sklearn-color-text-muted);\n",
       "}\n",
       "\n",
       "#sk-container-id-1 label.sk-toggleable__label-arrow:before {\n",
       "  /* Arrow on the left of the label */\n",
       "  content: \"▸\";\n",
       "  float: left;\n",
       "  margin-right: 0.25em;\n",
       "  color: var(--sklearn-color-icon);\n",
       "}\n",
       "\n",
       "#sk-container-id-1 label.sk-toggleable__label-arrow:hover:before {\n",
       "  color: var(--sklearn-color-text);\n",
       "}\n",
       "\n",
       "/* Toggleable content - dropdown */\n",
       "\n",
       "#sk-container-id-1 div.sk-toggleable__content {\n",
       "  max-height: 0;\n",
       "  max-width: 0;\n",
       "  overflow: hidden;\n",
       "  text-align: left;\n",
       "  /* unfitted */\n",
       "  background-color: var(--sklearn-color-unfitted-level-0);\n",
       "}\n",
       "\n",
       "#sk-container-id-1 div.sk-toggleable__content.fitted {\n",
       "  /* fitted */\n",
       "  background-color: var(--sklearn-color-fitted-level-0);\n",
       "}\n",
       "\n",
       "#sk-container-id-1 div.sk-toggleable__content pre {\n",
       "  margin: 0.2em;\n",
       "  border-radius: 0.25em;\n",
       "  color: var(--sklearn-color-text);\n",
       "  /* unfitted */\n",
       "  background-color: var(--sklearn-color-unfitted-level-0);\n",
       "}\n",
       "\n",
       "#sk-container-id-1 div.sk-toggleable__content.fitted pre {\n",
       "  /* unfitted */\n",
       "  background-color: var(--sklearn-color-fitted-level-0);\n",
       "}\n",
       "\n",
       "#sk-container-id-1 input.sk-toggleable__control:checked~div.sk-toggleable__content {\n",
       "  /* Expand drop-down */\n",
       "  max-height: 200px;\n",
       "  max-width: 100%;\n",
       "  overflow: auto;\n",
       "}\n",
       "\n",
       "#sk-container-id-1 input.sk-toggleable__control:checked~label.sk-toggleable__label-arrow:before {\n",
       "  content: \"▾\";\n",
       "}\n",
       "\n",
       "/* Pipeline/ColumnTransformer-specific style */\n",
       "\n",
       "#sk-container-id-1 div.sk-label input.sk-toggleable__control:checked~label.sk-toggleable__label {\n",
       "  color: var(--sklearn-color-text);\n",
       "  background-color: var(--sklearn-color-unfitted-level-2);\n",
       "}\n",
       "\n",
       "#sk-container-id-1 div.sk-label.fitted input.sk-toggleable__control:checked~label.sk-toggleable__label {\n",
       "  background-color: var(--sklearn-color-fitted-level-2);\n",
       "}\n",
       "\n",
       "/* Estimator-specific style */\n",
       "\n",
       "/* Colorize estimator box */\n",
       "#sk-container-id-1 div.sk-estimator input.sk-toggleable__control:checked~label.sk-toggleable__label {\n",
       "  /* unfitted */\n",
       "  background-color: var(--sklearn-color-unfitted-level-2);\n",
       "}\n",
       "\n",
       "#sk-container-id-1 div.sk-estimator.fitted input.sk-toggleable__control:checked~label.sk-toggleable__label {\n",
       "  /* fitted */\n",
       "  background-color: var(--sklearn-color-fitted-level-2);\n",
       "}\n",
       "\n",
       "#sk-container-id-1 div.sk-label label.sk-toggleable__label,\n",
       "#sk-container-id-1 div.sk-label label {\n",
       "  /* The background is the default theme color */\n",
       "  color: var(--sklearn-color-text-on-default-background);\n",
       "}\n",
       "\n",
       "/* On hover, darken the color of the background */\n",
       "#sk-container-id-1 div.sk-label:hover label.sk-toggleable__label {\n",
       "  color: var(--sklearn-color-text);\n",
       "  background-color: var(--sklearn-color-unfitted-level-2);\n",
       "}\n",
       "\n",
       "/* Label box, darken color on hover, fitted */\n",
       "#sk-container-id-1 div.sk-label.fitted:hover label.sk-toggleable__label.fitted {\n",
       "  color: var(--sklearn-color-text);\n",
       "  background-color: var(--sklearn-color-fitted-level-2);\n",
       "}\n",
       "\n",
       "/* Estimator label */\n",
       "\n",
       "#sk-container-id-1 div.sk-label label {\n",
       "  font-family: monospace;\n",
       "  font-weight: bold;\n",
       "  display: inline-block;\n",
       "  line-height: 1.2em;\n",
       "}\n",
       "\n",
       "#sk-container-id-1 div.sk-label-container {\n",
       "  text-align: center;\n",
       "}\n",
       "\n",
       "/* Estimator-specific */\n",
       "#sk-container-id-1 div.sk-estimator {\n",
       "  font-family: monospace;\n",
       "  border: 1px dotted var(--sklearn-color-border-box);\n",
       "  border-radius: 0.25em;\n",
       "  box-sizing: border-box;\n",
       "  margin-bottom: 0.5em;\n",
       "  /* unfitted */\n",
       "  background-color: var(--sklearn-color-unfitted-level-0);\n",
       "}\n",
       "\n",
       "#sk-container-id-1 div.sk-estimator.fitted {\n",
       "  /* fitted */\n",
       "  background-color: var(--sklearn-color-fitted-level-0);\n",
       "}\n",
       "\n",
       "/* on hover */\n",
       "#sk-container-id-1 div.sk-estimator:hover {\n",
       "  /* unfitted */\n",
       "  background-color: var(--sklearn-color-unfitted-level-2);\n",
       "}\n",
       "\n",
       "#sk-container-id-1 div.sk-estimator.fitted:hover {\n",
       "  /* fitted */\n",
       "  background-color: var(--sklearn-color-fitted-level-2);\n",
       "}\n",
       "\n",
       "/* Specification for estimator info (e.g. \"i\" and \"?\") */\n",
       "\n",
       "/* Common style for \"i\" and \"?\" */\n",
       "\n",
       ".sk-estimator-doc-link,\n",
       "a:link.sk-estimator-doc-link,\n",
       "a:visited.sk-estimator-doc-link {\n",
       "  float: right;\n",
       "  font-size: smaller;\n",
       "  line-height: 1em;\n",
       "  font-family: monospace;\n",
       "  background-color: var(--sklearn-color-background);\n",
       "  border-radius: 1em;\n",
       "  height: 1em;\n",
       "  width: 1em;\n",
       "  text-decoration: none !important;\n",
       "  margin-left: 0.5em;\n",
       "  text-align: center;\n",
       "  /* unfitted */\n",
       "  border: var(--sklearn-color-unfitted-level-1) 1pt solid;\n",
       "  color: var(--sklearn-color-unfitted-level-1);\n",
       "}\n",
       "\n",
       ".sk-estimator-doc-link.fitted,\n",
       "a:link.sk-estimator-doc-link.fitted,\n",
       "a:visited.sk-estimator-doc-link.fitted {\n",
       "  /* fitted */\n",
       "  border: var(--sklearn-color-fitted-level-1) 1pt solid;\n",
       "  color: var(--sklearn-color-fitted-level-1);\n",
       "}\n",
       "\n",
       "/* On hover */\n",
       "div.sk-estimator:hover .sk-estimator-doc-link:hover,\n",
       ".sk-estimator-doc-link:hover,\n",
       "div.sk-label-container:hover .sk-estimator-doc-link:hover,\n",
       ".sk-estimator-doc-link:hover {\n",
       "  /* unfitted */\n",
       "  background-color: var(--sklearn-color-unfitted-level-3);\n",
       "  color: var(--sklearn-color-background);\n",
       "  text-decoration: none;\n",
       "}\n",
       "\n",
       "div.sk-estimator.fitted:hover .sk-estimator-doc-link.fitted:hover,\n",
       ".sk-estimator-doc-link.fitted:hover,\n",
       "div.sk-label-container:hover .sk-estimator-doc-link.fitted:hover,\n",
       ".sk-estimator-doc-link.fitted:hover {\n",
       "  /* fitted */\n",
       "  background-color: var(--sklearn-color-fitted-level-3);\n",
       "  color: var(--sklearn-color-background);\n",
       "  text-decoration: none;\n",
       "}\n",
       "\n",
       "/* Span, style for the box shown on hovering the info icon */\n",
       ".sk-estimator-doc-link span {\n",
       "  display: none;\n",
       "  z-index: 9999;\n",
       "  position: relative;\n",
       "  font-weight: normal;\n",
       "  right: .2ex;\n",
       "  padding: .5ex;\n",
       "  margin: .5ex;\n",
       "  width: min-content;\n",
       "  min-width: 20ex;\n",
       "  max-width: 50ex;\n",
       "  color: var(--sklearn-color-text);\n",
       "  box-shadow: 2pt 2pt 4pt #999;\n",
       "  /* unfitted */\n",
       "  background: var(--sklearn-color-unfitted-level-0);\n",
       "  border: .5pt solid var(--sklearn-color-unfitted-level-3);\n",
       "}\n",
       "\n",
       ".sk-estimator-doc-link.fitted span {\n",
       "  /* fitted */\n",
       "  background: var(--sklearn-color-fitted-level-0);\n",
       "  border: var(--sklearn-color-fitted-level-3);\n",
       "}\n",
       "\n",
       ".sk-estimator-doc-link:hover span {\n",
       "  display: block;\n",
       "}\n",
       "\n",
       "/* \"?\"-specific style due to the `<a>` HTML tag */\n",
       "\n",
       "#sk-container-id-1 a.estimator_doc_link {\n",
       "  float: right;\n",
       "  font-size: 1rem;\n",
       "  line-height: 1em;\n",
       "  font-family: monospace;\n",
       "  background-color: var(--sklearn-color-background);\n",
       "  border-radius: 1rem;\n",
       "  height: 1rem;\n",
       "  width: 1rem;\n",
       "  text-decoration: none;\n",
       "  /* unfitted */\n",
       "  color: var(--sklearn-color-unfitted-level-1);\n",
       "  border: var(--sklearn-color-unfitted-level-1) 1pt solid;\n",
       "}\n",
       "\n",
       "#sk-container-id-1 a.estimator_doc_link.fitted {\n",
       "  /* fitted */\n",
       "  border: var(--sklearn-color-fitted-level-1) 1pt solid;\n",
       "  color: var(--sklearn-color-fitted-level-1);\n",
       "}\n",
       "\n",
       "/* On hover */\n",
       "#sk-container-id-1 a.estimator_doc_link:hover {\n",
       "  /* unfitted */\n",
       "  background-color: var(--sklearn-color-unfitted-level-3);\n",
       "  color: var(--sklearn-color-background);\n",
       "  text-decoration: none;\n",
       "}\n",
       "\n",
       "#sk-container-id-1 a.estimator_doc_link.fitted:hover {\n",
       "  /* fitted */\n",
       "  background-color: var(--sklearn-color-fitted-level-3);\n",
       "}\n",
       "</style><div id=\"sk-container-id-1\" class=\"sk-top-container\"><div class=\"sk-text-repr-fallback\"><pre>RandomForestClassifier(random_state=42)</pre><b>In a Jupyter environment, please rerun this cell to show the HTML representation or trust the notebook. <br />On GitHub, the HTML representation is unable to render, please try loading this page with nbviewer.org.</b></div><div class=\"sk-container\" hidden><div class=\"sk-item\"><div class=\"sk-estimator fitted sk-toggleable\"><input class=\"sk-toggleable__control sk-hidden--visually\" id=\"sk-estimator-id-1\" type=\"checkbox\" checked><label for=\"sk-estimator-id-1\" class=\"sk-toggleable__label fitted sk-toggleable__label-arrow\"><div><div>RandomForestClassifier</div></div><div><a class=\"sk-estimator-doc-link fitted\" rel=\"noreferrer\" target=\"_blank\" href=\"https://scikit-learn.org/1.6/modules/generated/sklearn.ensemble.RandomForestClassifier.html\">?<span>Documentation for RandomForestClassifier</span></a><span class=\"sk-estimator-doc-link fitted\">i<span>Fitted</span></span></div></label><div class=\"sk-toggleable__content fitted\"><pre>RandomForestClassifier(random_state=42)</pre></div> </div></div></div></div>"
      ],
      "text/plain": [
       "RandomForestClassifier(random_state=42)"
      ]
     },
     "execution_count": 20,
     "metadata": {},
     "output_type": "execute_result"
    }
   ],
   "source": [
    "model=RandomForestClassifier(n_estimators=100,random_state=42)\n",
    "model.fit(X_train,y_train)"
   ]
  },
  {
   "cell_type": "code",
   "execution_count": 21,
   "id": "c4c76544-3802-4143-a3ee-6d6fa120e952",
   "metadata": {},
   "outputs": [
    {
     "name": "stdout",
     "output_type": "stream",
     "text": [
      "Accuracy: 100.00%\n",
      "Classification Report:\n",
      "              precision    recall  f1-score   support\n",
      "\n",
      "           0       1.00      1.00      1.00     26007\n",
      "           1       1.00      1.00      1.00     13929\n",
      "\n",
      "    accuracy                           1.00     39936\n",
      "   macro avg       1.00      1.00      1.00     39936\n",
      "weighted avg       1.00      1.00      1.00     39936\n",
      "\n"
     ]
    }
   ],
   "source": [
    "y_pred=model.predict(X_test)\n",
    "print(f\"Accuracy: {accuracy_score(y_test, y_pred) * 100:.2f}%\")\n",
    "print(\"Classification Report:\")\n",
    "print(classification_report(y_test, y_pred))"
   ]
  },
  {
   "cell_type": "code",
   "execution_count": 22,
   "id": "f695aa6a-fd15-43ea-933e-4feb89304712",
   "metadata": {},
   "outputs": [],
   "source": [
    "if y_pred[0]==1:\n",
    "    recommended_recipes=recipes[recipes['Diet']=='Diabetic Friendly']\n",
    "else:\n",
    "    recommended_recipes=recipes[recipes['Diet']=='General']"
   ]
  },
  {
   "cell_type": "code",
   "execution_count": 23,
   "id": "37618158-b4b9-4d85-ad7f-520717d5891a",
   "metadata": {},
   "outputs": [],
   "source": [
    "recipes['CalorieRange'] = pd.cut(\n",
    "    recipes['TotalTimeInMins'], \n",
    "    bins=[0, 30, 60, 120],  # Define ranges as needed\n",
    "    labels=['Quick', 'Medium', 'Long']\n",
    ")\n"
   ]
  },
  {
   "cell_type": "code",
   "execution_count": 24,
   "id": "288a3cdb-9ee4-4a1f-9a7f-f620dacf99db",
   "metadata": {},
   "outputs": [
    {
     "name": "stdout",
     "output_type": "stream",
     "text": [
      "                                          RecipeName  TotalTimeInMins  \\\n",
      "0                               Masala Karela Recipe               45   \n",
      "1  टमाटर पुलियोगरे रेसिपी - Spicy Tomato Rice (Re...               15   \n",
      "2  Ragi Semiya Upma Recipe - Ragi Millet Vermicel...               50   \n",
      "3  Gongura Chicken Curry Recipe - Andhra Style Go...               45   \n",
      "4  आंध्रा स्टाइल आलम पचड़ी रेसिपी - Adrak Chutney ...               30   \n",
      "\n",
      "  CalorieRange  \n",
      "0       Medium  \n",
      "1        Quick  \n",
      "2       Medium  \n",
      "3       Medium  \n",
      "4        Quick  \n"
     ]
    }
   ],
   "source": [
    "print(recipes[['RecipeName','TotalTimeInMins','CalorieRange']].head())"
   ]
  },
  {
   "cell_type": "code",
   "execution_count": 30,
   "id": "fdaf5076-d768-4d58-967f-a18e0354e82c",
   "metadata": {},
   "outputs": [],
   "source": [
    "diabetes_data['SEQN'] = nhanes_data['SEQN'][:len(diabetes_data)].values\n"
   ]
  },
  {
   "cell_type": "code",
   "execution_count": 32,
   "id": "a67fe655-f324-4e91-a67c-bbb8a1a91eac",
   "metadata": {},
   "outputs": [
    {
     "name": "stdout",
     "output_type": "stream",
     "text": [
      "{'SEQN'}\n"
     ]
    }
   ],
   "source": [
    "common_columns = set(nhanes_data.columns).intersection(diabetes_data.columns)\n",
    "print(common_columns)\n",
    "\n",
    "health_data = pd.merge(nhanes_data, diabetes_data, how='inner', on=list(common_columns))\n",
    "health_data = pd.merge(nhanes_data, diabetes_data, how='inner', on='SEQN')\n",
    "\n"
   ]
  },
  {
   "cell_type": "code",
   "execution_count": 34,
   "id": "5a266447-b53a-4681-b4ae-b2a7601278e1",
   "metadata": {},
   "outputs": [
    {
     "name": "stdout",
     "output_type": "stream",
     "text": [
      "Index(['Pregnancies', 'Glucose', 'BloodPressure', 'SkinThickness', 'Insulin',\n",
      "       'BMI', 'DiabetesPedigreeFunction', 'Age', 'Outcome', 'Diet', 'SEQN'],\n",
      "      dtype='object')\n"
     ]
    }
   ],
   "source": [
    "print(diabetes_data.columns)"
   ]
  },
  {
   "cell_type": "code",
   "execution_count": 36,
   "id": "c2acc010-bdd9-4fb6-a9ea-67e4bd85579a",
   "metadata": {},
   "outputs": [
    {
     "name": "stdout",
     "output_type": "stream",
     "text": [
      "Index(['SEQN', 'DIQ010', 'DID040', 'DIQ160', 'DIQ170', 'DIQ172', 'DIQ175A',\n",
      "       'DIQ175B', 'DIQ175C', 'DIQ175D', 'DIQ175E', 'DIQ175F', 'DIQ175G',\n",
      "       'DIQ175H', 'DIQ175I', 'DIQ175J', 'DIQ175K', 'DIQ175L', 'DIQ175M',\n",
      "       'DIQ175N', 'DIQ175O', 'DIQ175P', 'DIQ175Q', 'DIQ175R', 'DIQ175S',\n",
      "       'DIQ175T', 'DIQ175U', 'DIQ175V', 'DIQ175W', 'DIQ175X', 'DIQ180',\n",
      "       'DIQ050', 'DID060', 'DIQ060U', 'DIQ070', 'DIQ230', 'DIQ240', 'DID250',\n",
      "       'DID260', 'DIQ260U', 'DIQ275', 'DIQ280', 'DIQ291', 'DIQ300S', 'DIQ300D',\n",
      "       'DID310S', 'DID310D', 'DID320', 'DID330', 'DID341', 'DID350', 'DIQ350U',\n",
      "       'DIQ360', 'DIQ080'],\n",
      "      dtype='object')\n"
     ]
    }
   ],
   "source": [
    "print(nhanes_data.columns)"
   ]
  },
  {
   "cell_type": "code",
   "execution_count": 38,
   "id": "f6ae6f70-0c80-4787-9323-7c93a15cb3ee",
   "metadata": {},
   "outputs": [
    {
     "name": "stdout",
     "output_type": "stream",
     "text": [
      "Index(['Srno', 'RecipeName', 'TranslatedRecipeName', 'Ingredients',\n",
      "       'TranslatedIngredients', 'PrepTimeInMins', 'CookTimeInMins',\n",
      "       'TotalTimeInMins', 'Servings', 'Cuisine', 'Course', 'Diet',\n",
      "       'Instructions', 'TranslatedInstructions', 'URL', 'CalorieRange'],\n",
      "      dtype='object')\n"
     ]
    }
   ],
   "source": [
    "print(recipes.columns)"
   ]
  },
  {
   "cell_type": "code",
   "execution_count": 40,
   "id": "ffe297ff-948c-4c22-9e0d-973b08d4030d",
   "metadata": {},
   "outputs": [],
   "source": [
    "health_data['Diet'] = 'Diabetic Friendly'\n"
   ]
  },
  {
   "cell_type": "code",
   "execution_count": null,
   "id": "5a57a378-a31c-475e-a063-678e16f3153a",
   "metadata": {},
   "outputs": [],
   "source": []
  },
  {
   "cell_type": "code",
   "execution_count": 43,
   "id": "cc00a207-8992-481c-8471-bb4cca24268b",
   "metadata": {},
   "outputs": [],
   "source": [
    "combined_data = pd.merge(health_data, recipes, how='inner', on='Diet')\n"
   ]
  },
  {
   "cell_type": "code",
   "execution_count": 45,
   "id": "06d80965-8ce3-4ab6-90c9-bf40756e638b",
   "metadata": {},
   "outputs": [
    {
     "name": "stdout",
     "output_type": "stream",
     "text": [
      "Index(['SEQN', 'DIQ010', 'DID040', 'DIQ160', 'DIQ170', 'DIQ172', 'DIQ175A',\n",
      "       'DIQ175B', 'DIQ175C', 'DIQ175D', 'DIQ175E', 'DIQ175F', 'DIQ175G',\n",
      "       'DIQ175H', 'DIQ175I', 'DIQ175J', 'DIQ175K', 'DIQ175L', 'DIQ175M',\n",
      "       'DIQ175N', 'DIQ175O', 'DIQ175P', 'DIQ175Q', 'DIQ175R', 'DIQ175S',\n",
      "       'DIQ175T', 'DIQ175U', 'DIQ175V', 'DIQ175W', 'DIQ175X', 'DIQ180',\n",
      "       'DIQ050', 'DID060', 'DIQ060U', 'DIQ070', 'DIQ230', 'DIQ240', 'DID250',\n",
      "       'DID260', 'DIQ260U', 'DIQ275', 'DIQ280', 'DIQ291', 'DIQ300S', 'DIQ300D',\n",
      "       'DID310S', 'DID310D', 'DID320', 'DID330', 'DID341', 'DID350', 'DIQ350U',\n",
      "       'DIQ360', 'DIQ080', 'Pregnancies', 'Glucose', 'BloodPressure',\n",
      "       'SkinThickness', 'Insulin', 'BMI', 'DiabetesPedigreeFunction', 'Age',\n",
      "       'Outcome', 'Diet'],\n",
      "      dtype='object')\n"
     ]
    }
   ],
   "source": [
    "print(health_data.columns)\n"
   ]
  },
  {
   "cell_type": "code",
   "execution_count": 47,
   "id": "950f276f-1fbf-409e-b224-50d9d7d47898",
   "metadata": {},
   "outputs": [],
   "source": [
    "health_data['Diet'] = 'Diabetic Friendly'\n"
   ]
  },
  {
   "cell_type": "code",
   "execution_count": 49,
   "id": "ce4ec3d1-df16-4e6d-ac51-dabe5bd92031",
   "metadata": {},
   "outputs": [],
   "source": [
    "def assign_diet(row):\n",
    "    if row['Outcome'] == 1: \n",
    "        return 'Diabetic Friendly'\n",
    "    else:\n",
    "        return 'General'\n",
    "\n",
    "health_data['Diet'] = health_data.apply(assign_diet, axis=1)\n"
   ]
  },
  {
   "cell_type": "code",
   "execution_count": 51,
   "id": "1d5c754e-25e6-4a50-9067-3302a4429bf6",
   "metadata": {},
   "outputs": [
    {
     "name": "stdout",
     "output_type": "stream",
     "text": [
      "['Diabetic Friendly' 'General']\n",
      "['Diabetic Friendly' 'Vegetarian' 'High Protein Vegetarian'\n",
      " 'Non Vegeterian' 'High Protein Non Vegetarian' 'Eggetarian' 'Vegan'\n",
      " 'No Onion No Garlic (Sattvic)' 'Gluten Free' 'Sugar Free Diet']\n"
     ]
    }
   ],
   "source": [
    "print(health_data['Diet'].unique())\n",
    "print(recipes['Diet'].unique())\n"
   ]
  },
  {
   "cell_type": "code",
   "execution_count": null,
   "id": "0fd882a0-db1f-4104-9c86-df48bb920fb9",
   "metadata": {},
   "outputs": [],
   "source": []
  },
  {
   "cell_type": "code",
   "execution_count": null,
   "id": "6d5e2395-1c07-4440-a311-c7a885bcf847",
   "metadata": {},
   "outputs": [],
   "source": []
  },
  {
   "cell_type": "code",
   "execution_count": 55,
   "id": "af8810e6-e69f-4382-af84-270f38500d60",
   "metadata": {},
   "outputs": [],
   "source": [
    "health_data['Diet'] = health_data['Diet'].str.strip().str.lower()\n",
    "recipes['Diet'] = recipes['Diet'].str.strip().str.lower()\n"
   ]
  },
  {
   "cell_type": "code",
   "execution_count": 57,
   "id": "7f669cb7-23eb-4cb4-8b92-8fbd0c61b95c",
   "metadata": {},
   "outputs": [
    {
     "name": "stdout",
     "output_type": "stream",
     "text": [
      "Index(['SEQN', 'DIQ010', 'DID040', 'DIQ160', 'DIQ170', 'DIQ172', 'DIQ175A',\n",
      "       'DIQ175B', 'DIQ175C', 'DIQ175D', 'DIQ175E', 'DIQ175F', 'DIQ175G',\n",
      "       'DIQ175H', 'DIQ175I', 'DIQ175J', 'DIQ175K', 'DIQ175L', 'DIQ175M',\n",
      "       'DIQ175N', 'DIQ175O', 'DIQ175P', 'DIQ175Q', 'DIQ175R', 'DIQ175S',\n",
      "       'DIQ175T', 'DIQ175U', 'DIQ175V', 'DIQ175W', 'DIQ175X', 'DIQ180',\n",
      "       'DIQ050', 'DID060', 'DIQ060U', 'DIQ070', 'DIQ230', 'DIQ240', 'DID250',\n",
      "       'DID260', 'DIQ260U', 'DIQ275', 'DIQ280', 'DIQ291', 'DIQ300S', 'DIQ300D',\n",
      "       'DID310S', 'DID310D', 'DID320', 'DID330', 'DID341', 'DID350', 'DIQ350U',\n",
      "       'DIQ360', 'DIQ080', 'Pregnancies', 'Glucose', 'BloodPressure',\n",
      "       'SkinThickness', 'Insulin', 'BMI', 'DiabetesPedigreeFunction', 'Age',\n",
      "       'Outcome', 'Diet', 'Srno', 'RecipeName', 'TranslatedRecipeName',\n",
      "       'Ingredients', 'TranslatedIngredients', 'PrepTimeInMins',\n",
      "       'CookTimeInMins', 'TotalTimeInMins', 'Servings', 'Cuisine', 'Course',\n",
      "       'Instructions', 'TranslatedInstructions', 'URL', 'CalorieRange'],\n",
      "      dtype='object')\n"
     ]
    }
   ],
   "source": [
    "combined_data = pd.merge(health_data, recipes, how='inner', on='Diet')\n",
    "\n",
    "print(combined_data.columns)"
   ]
  },
  {
   "cell_type": "code",
   "execution_count": 59,
   "id": "47e60605-733d-48cd-95cc-4c5223c0c5e7",
   "metadata": {},
   "outputs": [
    {
     "name": "stdout",
     "output_type": "stream",
     "text": [
      "Features shape: (69680, 3)\n",
      "Target shape: (69680,)\n",
      "Accuracy: 100.00%\n",
      "Classification Report:\n",
      "              precision    recall  f1-score   support\n",
      "\n",
      "           1       1.00      1.00      1.00     13936\n",
      "\n",
      "    accuracy                           1.00     13936\n",
      "   macro avg       1.00      1.00      1.00     13936\n",
      "weighted avg       1.00      1.00      1.00     13936\n",
      "\n"
     ]
    }
   ],
   "source": [
    "X = combined_data[['Glucose','BMI','Age']]  \n",
    "y = combined_data['Outcome']  \n",
    "\n",
    "print(f\"Features shape: {X.shape}\")\n",
    "print(f\"Target shape: {y.shape}\")\n",
    "\n",
    "from sklearn.model_selection import train_test_split\n",
    "\n",
    "X_train, X_test, y_train, y_test = train_test_split(X, y, test_size=0.2, random_state=42)\n",
    "\n",
    "from sklearn.ensemble import RandomForestClassifier\n",
    "from sklearn.metrics import accuracy_score, classification_report\n",
    "\n",
    "model = RandomForestClassifier(n_estimators=100, random_state=42)\n",
    "model.fit(X_train, y_train)\n",
    "\n",
    "y_pred = model.predict(X_test)\n",
    "print(f\"Accuracy: {accuracy_score(y_test, y_pred) * 100:.2f}%\")\n",
    "print(\"Classification Report:\")\n",
    "print(classification_report(y_test, y_pred))\n"
   ]
  },
  {
   "cell_type": "raw",
   "id": "83eaa4b9-40d1-4016-96a1-4fd1cdeeb311",
   "metadata": {},
   "source": [
    "y_pred=model.predict(X_test)"
   ]
  },
  {
   "cell_type": "code",
   "execution_count": 61,
   "id": "d1523c87-4afb-48cf-ab80-56bb7847010f",
   "metadata": {},
   "outputs": [],
   "source": [
    "recipes['Diet'] = recipes['Diet'].str.strip().str.lower()  \n"
   ]
  },
  {
   "cell_type": "code",
   "execution_count": null,
   "id": "5a04b84c-d17f-48a3-91f6-c3f89e3a699a",
   "metadata": {},
   "outputs": [],
   "source": []
  },
  {
   "cell_type": "code",
   "execution_count": null,
   "id": "c5f0a767-ec53-4d43-a7a1-1020416c1922",
   "metadata": {},
   "outputs": [],
   "source": []
  },
  {
   "cell_type": "code",
   "execution_count": null,
   "id": "9fdc1721-88e3-4a77-9d78-3fa8800996cb",
   "metadata": {},
   "outputs": [],
   "source": []
  },
  {
   "cell_type": "code",
   "execution_count": null,
   "id": "ef6c6542-4a04-4918-bae1-40a62d4190cb",
   "metadata": {},
   "outputs": [],
   "source": []
  },
  {
   "cell_type": "code",
   "execution_count": 65,
   "id": "a8256c3f-0492-4580-93cc-b7bcad7be0e1",
   "metadata": {},
   "outputs": [
    {
     "name": "stdout",
     "output_type": "stream",
     "text": [
      "                                            RecipeName  TotalTimeInMins  \\\n",
      "0                                 Masala Karela Recipe               45   \n",
      "21   Maharashtrian Kakdi Thalipeeth Recipe - Spiced...               60   \n",
      "31   सुंडकई मेथी सांबर रेसिपी - Sundakkai And Methi...               65   \n",
      "126                            Ragi Masala Roti Recipe               40   \n",
      "135  Thandu Keerai Puli Kuzhambu Recipe - Amaranth ...               30   \n",
      "\n",
      "                  Diet  \n",
      "0    diabetic friendly  \n",
      "21   diabetic friendly  \n",
      "31   diabetic friendly  \n",
      "126  diabetic friendly  \n",
      "135  diabetic friendly  \n"
     ]
    }
   ],
   "source": [
    "input_data = pd.DataFrame([[120, 25, 30]], columns=['Glucose','BMI','Age'])\n",
    "predicted_outcome = model.predict(input_data)[0]\n",
    "\n",
    "if predicted_outcome == 1: \n",
    "    recommended_recipes = recipes[recipes['Diet'] == 'diabetic friendly']\n",
    "else:\n",
    "    recommended_recipes = recipes[recipes['Diet'] == 'general']\n",
    "\n",
    "print(recommended_recipes[['RecipeName', 'TotalTimeInMins', 'Diet']].head())\n"
   ]
  },
  {
   "cell_type": "code",
   "execution_count": 67,
   "id": "2812758a-dc18-4a2a-a367-5cb59763da73",
   "metadata": {},
   "outputs": [
    {
     "name": "stdout",
     "output_type": "stream",
     "text": [
      "Diabetic Friendly Recipes:\n",
      "                                            RecipeName  TotalTimeInMins  \\\n",
      "0                                 Masala Karela Recipe               45   \n",
      "21   Maharashtrian Kakdi Thalipeeth Recipe - Spiced...               60   \n",
      "31   सुंडकई मेथी सांबर रेसिपी - Sundakkai And Methi...               65   \n",
      "126                            Ragi Masala Roti Recipe               40   \n",
      "135  Thandu Keerai Puli Kuzhambu Recipe - Amaranth ...               30   \n",
      "\n",
      "                  Diet  \n",
      "0    diabetic friendly  \n",
      "21   diabetic friendly  \n",
      "31   diabetic friendly  \n",
      "126  diabetic friendly  \n",
      "135  diabetic friendly  \n",
      "Non-Diabetic Recipes:\n",
      "                                          RecipeName  TotalTimeInMins  \\\n",
      "1  टमाटर पुलियोगरे रेसिपी - Spicy Tomato Rice (Re...               15   \n",
      "3  Gongura Chicken Curry Recipe - Andhra Style Go...               45   \n",
      "4  आंध्रा स्टाइल आलम पचड़ी रेसिपी - Adrak Chutney ...               30   \n",
      "6         Udupi Style Ash Gourd Coconut Curry Recipe               40   \n",
      "7            Mexican Style Black Bean Burrito Recipe               40   \n",
      "\n",
      "             Diet  \n",
      "1      vegetarian  \n",
      "3  non vegeterian  \n",
      "4      vegetarian  \n",
      "6      vegetarian  \n",
      "7      vegetarian  \n"
     ]
    }
   ],
   "source": [
    "print(\"Diabetic Friendly Recipes:\")\n",
    "print(recipes[recipes['Diet'] == 'diabetic friendly'][['RecipeName', 'TotalTimeInMins', 'Diet']].head())\n",
    "\n",
    "print(\"Non-Diabetic Recipes:\")\n",
    "print(recipes[recipes['Diet'].isin(['vegetarian', 'non vegeterian', 'vegan'])][['RecipeName', 'TotalTimeInMins', 'Diet']].head())\n"
   ]
  },
  {
   "cell_type": "code",
   "execution_count": null,
   "id": "4f25ec76-5ffa-4115-9275-8756b25800fb",
   "metadata": {},
   "outputs": [],
   "source": []
  },
  {
   "cell_type": "code",
   "execution_count": 70,
   "id": "7d8310c4-333c-4bcd-ba0a-02d7aa6dfe26",
   "metadata": {},
   "outputs": [
    {
     "name": "stdout",
     "output_type": "stream",
     "text": [
      "                                            RecipeName  TotalTimeInMins  \\\n",
      "0                                 Masala Karela Recipe               45   \n",
      "21   Maharashtrian Kakdi Thalipeeth Recipe - Spiced...               60   \n",
      "31   सुंडकई मेथी सांबर रेसिपी - Sundakkai And Methi...               65   \n",
      "126                            Ragi Masala Roti Recipe               40   \n",
      "135  Thandu Keerai Puli Kuzhambu Recipe - Amaranth ...               30   \n",
      "\n",
      "                  Diet  \n",
      "0    diabetic friendly  \n",
      "21   diabetic friendly  \n",
      "31   diabetic friendly  \n",
      "126  diabetic friendly  \n",
      "135  diabetic friendly  \n"
     ]
    }
   ],
   "source": [
    "input_data = pd.DataFrame([[120, 25, 30]], columns=['Glucose', 'BMI', 'Age'])\n",
    "predicted_outcome = model.predict(input_data)[0]\n",
    "\n",
    "if predicted_outcome == 1:  \n",
    "    recommended_recipes = recipes[recipes['Diet'] == 'diabetic friendly']\n",
    "else:\n",
    "    recommended_recipes = recipes[recipes['Diet'] == 'general']\n",
    "\n",
    "print(recommended_recipes[['RecipeName', 'TotalTimeInMins', 'Diet']].head())\n"
   ]
  },
  {
   "cell_type": "code",
   "execution_count": 72,
   "id": "ebc9e5e1-4851-4530-b032-d9841d12d01c",
   "metadata": {},
   "outputs": [
    {
     "name": "stdout",
     "output_type": "stream",
     "text": [
      "['diabetic friendly' 'vegetarian' 'high protein vegetarian'\n",
      " 'non vegeterian' 'high protein non vegetarian' 'eggetarian' 'vegan'\n",
      " 'no onion no garlic (sattvic)' 'gluten free' 'sugar free diet']\n"
     ]
    }
   ],
   "source": [
    "print(recipes['Diet'].unique())\n"
   ]
  },
  {
   "cell_type": "code",
   "execution_count": 74,
   "id": "36c8751c-ff88-4aa0-b8fc-55b1e8bdfb98",
   "metadata": {},
   "outputs": [
    {
     "name": "stdout",
     "output_type": "stream",
     "text": [
      "Recommended Recipes:\n",
      "                                            RecipeName  TotalTimeInMins  \\\n",
      "0                                 Masala Karela Recipe               45   \n",
      "21   Maharashtrian Kakdi Thalipeeth Recipe - Spiced...               60   \n",
      "31   सुंडकई मेथी सांबर रेसिपी - Sundakkai And Methi...               65   \n",
      "126                            Ragi Masala Roti Recipe               40   \n",
      "135  Thandu Keerai Puli Kuzhambu Recipe - Amaranth ...               30   \n",
      "\n",
      "                  Diet  \n",
      "0    diabetic friendly  \n",
      "21   diabetic friendly  \n",
      "31   diabetic friendly  \n",
      "126  diabetic friendly  \n",
      "135  diabetic friendly  \n"
     ]
    }
   ],
   "source": [
    "input_data = pd.DataFrame([[120, 25, 30]], columns=['Glucose', 'BMI', 'Age'])\n",
    "predicted_outcome = model.predict(input_data)[0]\n",
    "\n",
    "if predicted_outcome == 1:  \n",
    "    recommended_recipes = recipes[recipes['Diet'] == 'diabetic friendly']\n",
    "else:\n",
    "    recommended_recipes = recipes[recipes['Diet'].isin(['vegetarian', 'non vegeterian', 'vegan'])]\n",
    "\n",
    "print(\"Recommended Recipes:\")\n",
    "print(recommended_recipes[['RecipeName', 'TotalTimeInMins', 'Diet']].head())\n"
   ]
  },
  {
   "cell_type": "code",
   "execution_count": 76,
   "id": "a675b50a-30a3-4adc-bef4-e15be9d47436",
   "metadata": {},
   "outputs": [
    {
     "name": "stdout",
     "output_type": "stream",
     "text": [
      "Diabetic Friendly Recipes:\n",
      "                                            RecipeName  TotalTimeInMins  \\\n",
      "0                                 Masala Karela Recipe               45   \n",
      "21   Maharashtrian Kakdi Thalipeeth Recipe - Spiced...               60   \n",
      "31   सुंडकई मेथी सांबर रेसिपी - Sundakkai And Methi...               65   \n",
      "126                            Ragi Masala Roti Recipe               40   \n",
      "135  Thandu Keerai Puli Kuzhambu Recipe - Amaranth ...               30   \n",
      "\n",
      "                  Diet  \n",
      "0    diabetic friendly  \n",
      "21   diabetic friendly  \n",
      "31   diabetic friendly  \n",
      "126  diabetic friendly  \n",
      "135  diabetic friendly  \n",
      "Non-Diabetic Recipes:\n",
      "                                          RecipeName  TotalTimeInMins  \\\n",
      "1  टमाटर पुलियोगरे रेसिपी - Spicy Tomato Rice (Re...               15   \n",
      "3  Gongura Chicken Curry Recipe - Andhra Style Go...               45   \n",
      "4  आंध्रा स्टाइल आलम पचड़ी रेसिपी - Adrak Chutney ...               30   \n",
      "6         Udupi Style Ash Gourd Coconut Curry Recipe               40   \n",
      "7            Mexican Style Black Bean Burrito Recipe               40   \n",
      "\n",
      "             Diet  \n",
      "1      vegetarian  \n",
      "3  non vegeterian  \n",
      "4      vegetarian  \n",
      "6      vegetarian  \n",
      "7      vegetarian  \n"
     ]
    }
   ],
   "source": [
    "print(\"Diabetic Friendly Recipes:\")\n",
    "print(recipes[recipes['Diet'] == 'diabetic friendly'][['RecipeName', 'TotalTimeInMins', 'Diet']].head())\n",
    "\n",
    "print(\"Non-Diabetic Recipes:\")\n",
    "print(recipes[recipes['Diet'].isin(['vegetarian', 'non vegeterian', 'vegan'])][['RecipeName', 'TotalTimeInMins', 'Diet']].head())\n"
   ]
  },
  {
   "cell_type": "code",
   "execution_count": 78,
   "id": "e9195ed7-2e0c-4e55-a9b9-9071e493b471",
   "metadata": {},
   "outputs": [
    {
     "name": "stdout",
     "output_type": "stream",
     "text": [
      "Recommended Recipes:\n",
      "                                            RecipeName  TotalTimeInMins  \\\n",
      "0                                 Masala Karela Recipe               45   \n",
      "21   Maharashtrian Kakdi Thalipeeth Recipe - Spiced...               60   \n",
      "31   सुंडकई मेथी सांबर रेसिपी - Sundakkai And Methi...               65   \n",
      "126                            Ragi Masala Roti Recipe               40   \n",
      "135  Thandu Keerai Puli Kuzhambu Recipe - Amaranth ...               30   \n",
      "\n",
      "                  Diet  \n",
      "0    diabetic friendly  \n",
      "21   diabetic friendly  \n",
      "31   diabetic friendly  \n",
      "126  diabetic friendly  \n",
      "135  diabetic friendly  \n"
     ]
    }
   ],
   "source": [
    "input_data = pd.DataFrame([[120, 25, 30]], columns=['Glucose', 'BMI', 'Age'])\n",
    "predicted_outcome = model.predict(input_data)[0]\n",
    "\n",
    "if predicted_outcome == 1: \n",
    "    recommended_recipes = recipes[recipes['Diet'] == 'diabetic friendly']\n",
    "else:\n",
    "    recommended_recipes = recipes[recipes['Diet'].isin(['vegetarian', 'non vegeterian', 'vegan'])]\n",
    "\n",
    "print(\"Recommended Recipes:\")\n",
    "print(recommended_recipes[['RecipeName', 'TotalTimeInMins', 'Diet']].head())\n"
   ]
  },
  {
   "cell_type": "code",
   "execution_count": 80,
   "id": "ab86a0ac-240f-43ce-a163-1134b0a1ebc4",
   "metadata": {},
   "outputs": [
    {
     "data": {
      "text/plain": [
       "['random_forest_model.pkl']"
      ]
     },
     "execution_count": 80,
     "metadata": {},
     "output_type": "execute_result"
    }
   ],
   "source": [
    "import joblib\n",
    "model = RandomForestClassifier(n_estimators=100, random_state=42)\n",
    "model.fit(X_train, y_train)\n",
    "joblib.dump(model, 'random_forest_model.pkl')\n"
   ]
  },
  {
   "cell_type": "code",
   "execution_count": 82,
   "id": "c21c7f4c-64cd-4ec8-b67b-7f316fa2d5b0",
   "metadata": {},
   "outputs": [
    {
     "name": "stdout",
     "output_type": "stream",
     "text": [
      "Expected number of features: 3\n"
     ]
    }
   ],
   "source": [
    "import joblib\n",
    "\n",
    "model = joblib.load(r\"C:/Users/BhumikaMallapur/djangoprojects/ecommerce_proj/smart_nutri/random_forest_model.pkl\")\n",
    "print(\"Expected number of features:\", model.n_features_in_) \n"
   ]
  },
  {
   "cell_type": "code",
   "execution_count": 84,
   "id": "1cf306e9-cbf5-47a3-872d-8e373bd97e2c",
   "metadata": {},
   "outputs": [
    {
     "name": "stdout",
     "output_type": "stream",
     "text": [
      "Model trained and saved successfully.\n"
     ]
    }
   ],
   "source": [
    "import joblib\n",
    "from sklearn.model_selection import train_test_split\n",
    "from sklearn.ensemble import RandomForestClassifier\n",
    "\n",
    "X = combined_data[['Glucose', 'BMI', 'Age']]\n",
    "y = combined_data['Outcome']\n",
    "X_train, X_test, y_train, y_test = train_test_split(X, y, test_size=0.2, random_state=42)\n",
    "model = RandomForestClassifier(n_estimators=100, random_state=42)\n",
    "model.fit(X_train, y_train)\n",
    "\n",
    "joblib.dump(model, r\"C:/Users/BhumikaMallapur/djangoprojects/ecommerce_proj/smart_nutri/random_forest_model.pkl\")\n",
    "print(\"Model trained and saved successfully.\")\n"
   ]
  },
  {
   "cell_type": "code",
   "execution_count": 86,
   "id": "124a48a5-e9db-4079-8ffd-73a4e993bbd1",
   "metadata": {},
   "outputs": [
    {
     "name": "stdout",
     "output_type": "stream",
     "text": [
      "[1]\n"
     ]
    }
   ],
   "source": [
    "input_data = pd.DataFrame([[120, 25, 30]], columns=['Glucose', 'BMI', 'Age'])\n",
    "print(model.predict(input_data))  \n"
   ]
  },
  {
   "cell_type": "code",
   "execution_count": 90,
   "id": "512cf836-63b9-458e-9a3e-ef0e02397a3f",
   "metadata": {},
   "outputs": [
    {
     "name": "stdout",
     "output_type": "stream",
     "text": [
      "['diabetic friendly' 'vegetarian' 'high protein vegetarian'\n",
      " 'non vegeterian' 'high protein non vegetarian' 'eggetarian' 'vegan'\n",
      " 'no onion no garlic (sattvic)' 'gluten free' 'sugar free diet']\n"
     ]
    }
   ],
   "source": [
    "print(recipes['Diet'].unique())\n"
   ]
  },
  {
   "cell_type": "code",
   "execution_count": null,
   "id": "aa3950f5-2c79-45ff-b8e2-66367e2e0506",
   "metadata": {},
   "outputs": [],
   "source": []
  },
  {
   "cell_type": "code",
   "execution_count": null,
   "id": "d4618728-4f08-4f29-b974-50fe44c57650",
   "metadata": {},
   "outputs": [],
   "source": []
  },
  {
   "cell_type": "code",
   "execution_count": null,
   "id": "7eb3bac0-685d-42fa-982a-2c3aa1c22468",
   "metadata": {},
   "outputs": [],
   "source": []
  }
 ],
 "metadata": {
  "kernelspec": {
   "display_name": "Python 3 (ipykernel)",
   "language": "python",
   "name": "python3"
  },
  "language_info": {
   "codemirror_mode": {
    "name": "ipython",
    "version": 3
   },
   "file_extension": ".py",
   "mimetype": "text/x-python",
   "name": "python",
   "nbconvert_exporter": "python",
   "pygments_lexer": "ipython3",
   "version": "3.12.7"
  }
 },
 "nbformat": 4,
 "nbformat_minor": 5
}
